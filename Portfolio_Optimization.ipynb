{
 "cells": [
  {
   "metadata": {},
   "cell_type": "markdown",
   "source": [
    "# Building A Portfolio\n",
    "\n",
    "When building a portfolio I will take into consideration the following: \n",
    "- Expected Return\n",
    "- Risk (Standard Deviation)\n",
    "- Sharp Ratio\n",
    "- Correlation\n",
    "\n",
    "for the purpose of this research we are using equal weight for the whole portfolio, we have 10 stock so 10% of each stock makes the entire portfolio\n"
   ],
   "id": "b70a8f80a6adc5e3"
  },
  {
   "metadata": {},
   "cell_type": "code",
   "source": [
    "import pandas as pd \n",
    "import numpy as np\n",
    "import matplotlib.pyplot as plt\n",
    "import yfinance as yf\n",
    "import ffn\n",
    "from pypfopt import EfficientFrontier\n",
    "from pypfopt import risk_models\n",
    "from pypfopt import expected_returns\n",
    "from pypfopt.discrete_allocation import DiscreteAllocation, get_latest_prices"
   ],
   "id": "initial_id",
   "outputs": [],
   "execution_count": null
  },
  {
   "metadata": {},
   "cell_type": "code",
   "source": [
    "#Getting 10 stocks for the Portfolio\n",
    "start_date = '2019-06-03'\n",
    "end_date = '2024-06-04'\n",
    "\n",
    "stocks = ['AMZN', 'CCJ', 'LMT', 'PLTR', 'PANW', 'LULU', 'SOFI', 'XOM', 'AMGN', 'AMAT'] #Portfolio \n",
    "data = yf.download(stocks, start=start_date, end=end_date)['Adj Close'] #list of Adj Closing prices"
   ],
   "id": "1bdf25bd116e5d5c",
   "outputs": [],
   "execution_count": null
  },
  {
   "metadata": {},
   "cell_type": "code",
   "source": "data",
   "id": "d1d34e6dffa14bba",
   "outputs": [],
   "execution_count": null
  },
  {
   "metadata": {},
   "cell_type": "code",
   "source": "data.info()",
   "id": "c8a5f49a24fa84cf",
   "outputs": [],
   "execution_count": null
  },
  {
   "metadata": {},
   "cell_type": "code",
   "source": "data.aggregate([min, np.mean, np.median, np.std, max,]) #Statistics of the stock over the last 5 years",
   "id": "ce59497f05b13c4f",
   "outputs": [],
   "execution_count": null
  },
  {
   "metadata": {},
   "cell_type": "code",
   "source": "current_price = data.iloc[-1] #last price of the stock",
   "id": "58e4af57da5bdcef",
   "outputs": [],
   "execution_count": null
  },
  {
   "metadata": {},
   "cell_type": "code",
   "source": "current_price",
   "id": "385a789a8b0d91ad",
   "outputs": [],
   "execution_count": null
  },
  {
   "metadata": {},
   "cell_type": "code",
   "source": [
    "for stock in data.columns:\n",
    "    price_difference = data[stock].max() - current_price[stock]\n",
    "    print(f'{stock} {price_difference}') #we can see how the stocks are priced right now compared to their max for the last 5 years. "
   ],
   "id": "899e4de216f6d76f",
   "outputs": [],
   "execution_count": null
  },
  {
   "metadata": {},
   "cell_type": "markdown",
   "source": [
    "## Expected Return\n",
    "* The profit and loss that an investor anticipates on an investment that has known historical rates of return (ROR), the expected return is usually based on historical data and is therefore not guaranteed into the future, however it does often set reasonable expectations. \n",
    "\n",
    "Calculating expected return\n",
    "- CAMP model\n",
    "- Analyst Forecast\n",
    "- "
   ],
   "id": "3ded0620c8f6c148"
  },
  {
   "metadata": {},
   "cell_type": "code",
   "source": [
    "#Normalize prices of the stocks\n",
    "(data / data.iloc[0]*100).plot(figsize=(10,8))"
   ],
   "id": "ab9458f9c2e36413",
   "outputs": [],
   "execution_count": null
  },
  {
   "metadata": {},
   "cell_type": "code",
   "source": [
    "returns = np.log(data / data.shift(1)) * 100 #returns of the stocks (Day pct changes) \n",
    "\n",
    "#for SOFI has IPO June 1st 2021, and PLTR has IPO September 30th 2020, we can see the difference in the returns and we don't have data for the first two years\n",
    "\n",
    "#to calculate SOFI Returns wi will use the first day of trading so June 2nd 2021 June 2 2021 = data.iloc[504]\n",
    "sofi_returns = ((data['SOFI'].iloc[-1] - data['SOFI'].iloc[504])/data['SOFI'].iloc[504])*100\n",
    "\n",
    "#to calculate PLTR Returns we will use the first day of trading so September 30th 2020 = data.iloc[336]\n",
    "pltr_returns = ((data['PLTR'].iloc[-1] - data['PLTR'].iloc[336]) / data['PLTR'].iloc[336])*100"
   ],
   "id": "94ac67f3d462917",
   "outputs": [],
   "execution_count": null
  },
  {
   "metadata": {},
   "cell_type": "code",
   "source": "sofi_returns",
   "id": "397539a39ec771a3",
   "outputs": [],
   "execution_count": null
  },
  {
   "metadata": {},
   "cell_type": "code",
   "source": "pltr_returns",
   "id": "b4b1bb624d7f4651",
   "outputs": [],
   "execution_count": null
  },
  {
   "metadata": {},
   "cell_type": "code",
   "source": "returns.tail()",
   "id": "700224e25f25c3be",
   "outputs": [],
   "execution_count": null
  },
  {
   "metadata": {},
   "cell_type": "code",
   "source": [
    "#five year return include all stocks \n",
    "five_year_return = ((current_price - data.iloc[0]) / data.iloc[0]) * 100"
   ],
   "id": "10963f045deb0225",
   "outputs": [],
   "execution_count": null
  },
  {
   "metadata": {},
   "cell_type": "code",
   "source": [
    "five_year_return = pd.DataFrame(five_year_return)\n",
    "five_year_return.columns = ['Returns']\n",
    "five_year_return.loc['PLTR'] = pltr_returns\n",
    "five_year_return.loc['SOFI'] = sofi_returns\n",
    "five_year_return"
   ],
   "id": "de0cae4cdd6047f1",
   "outputs": [],
   "execution_count": null
  },
  {
   "metadata": {},
   "cell_type": "code",
   "source": "five_year_return",
   "id": "6f38c7b4c82fba4",
   "outputs": [],
   "execution_count": null
  },
  {
   "metadata": {},
   "cell_type": "code",
   "source": [
    "#Visualize 5 year returns\n",
    "x = five_year_return['Returns']\n",
    "y = five_year_return.index\n",
    "colors = plt.get_cmap('tab10')\n",
    "plt.figure(figsize=(10,6))\n",
    "plt.bar(y, x, color=colors(np.arange(len(five_year_return))))\n",
    "plt.ylabel('% Return')\n",
    "plt.xlabel('Ticker')\n",
    "plt.title('5 Year Returns')\n",
    "plt.show()"
   ],
   "id": "a5310668bd341249",
   "outputs": [],
   "execution_count": null
  },
  {
   "metadata": {},
   "cell_type": "code",
   "source": "year1_returns = ((data.iloc[252]-data.iloc[0])/data.iloc[0])*100",
   "id": "c42f7dcad6cd313",
   "outputs": [],
   "execution_count": null
  },
  {
   "metadata": {},
   "cell_type": "code",
   "source": "year2_returns = ((data.iloc[504] - data.iloc[253])/data.iloc[253])*100",
   "id": "bdae4e7506743867",
   "outputs": [],
   "execution_count": null
  },
  {
   "metadata": {},
   "cell_type": "code",
   "source": "year3_returns = ((data.iloc[757] - data.iloc[505])/data.iloc[505])*100",
   "id": "830d3cf35b203d0a",
   "outputs": [],
   "execution_count": null
  },
  {
   "metadata": {},
   "cell_type": "code",
   "source": "year4_returns = ((data.iloc[1008] - data.iloc[758])/data.iloc[758])*100",
   "id": "5b113cc5dddefea6",
   "outputs": [],
   "execution_count": null
  },
  {
   "metadata": {},
   "cell_type": "code",
   "source": "year5_returns = ((data.iloc[1259] - data.iloc[1009])/data.iloc[1009])*100",
   "id": "305908f5126a7b67",
   "outputs": [],
   "execution_count": null
  },
  {
   "metadata": {},
   "cell_type": "code",
   "source": [
    "returns_df = pd.DataFrame([year1_returns, year2_returns, year3_returns, year4_returns, year5_returns])\n",
    "\n",
    "returns_df.index = ['year 1', 'year 2', 'year 3', 'year 4', 'year 5']"
   ],
   "id": "6526d06548dff09d",
   "outputs": [],
   "execution_count": null
  },
  {
   "metadata": {},
   "cell_type": "code",
   "source": "returns_df",
   "id": "39271cbf796b761a",
   "outputs": [],
   "execution_count": null
  },
  {
   "metadata": {},
   "cell_type": "code",
   "source": "returns_df.plot(figsize=(10,10), kind='bar', legend=True, title='Yearly Returns')",
   "id": "f02775cba77117b6",
   "outputs": [],
   "execution_count": null
  },
  {
   "metadata": {},
   "cell_type": "code",
   "source": "data",
   "id": "8b0a5ce986960f7c",
   "outputs": [],
   "execution_count": null
  },
  {
   "metadata": {},
   "cell_type": "code",
   "source": [
    "d = data[['AMAT', 'AMGN', 'AMZN', 'CCJ', 'LMT', 'LULU', 'PANW', 'XOM']]\n",
    "PLTR = data.PLTR\n",
    "SOFI = data.SOFI "
   ],
   "id": "ca6b3a45c3f4c882",
   "outputs": [],
   "execution_count": null
  },
  {
   "metadata": {},
   "cell_type": "code",
   "source": [
    "stats = d.calc_stats()\n",
    "stats.display()"
   ],
   "id": "af7f6247c519371",
   "outputs": [],
   "execution_count": null
  },
  {
   "metadata": {},
   "cell_type": "code",
   "source": [
    "SOFI_stats = SOFI.calc_stats()\n",
    "SOFI_stats.display()"
   ],
   "id": "9e72d2e5f1e881bb",
   "outputs": [],
   "execution_count": null
  },
  {
   "metadata": {},
   "cell_type": "code",
   "source": [
    "PLTR_stats = PLTR.calc_stats()\n",
    "PLTR_stats.display()"
   ],
   "id": "8b7707cb74b90ecb",
   "outputs": [],
   "execution_count": null
  },
  {
   "metadata": {},
   "cell_type": "code",
   "source": "weights = np.array([0.10, 0.10, 0.10, 0.10, 0.10, 0.10, 0.10, 0.10, 0.10, 0.10])",
   "id": "26243c972bbba902",
   "outputs": [],
   "execution_count": null
  },
  {
   "metadata": {},
   "cell_type": "code",
   "source": [
    "#mean daily returns and covariance of daily returns\n",
    "mean_daily_returns = returns.mean()\n",
    "cov_matrix = returns.cov()"
   ],
   "id": "7ce8f61776a1ce4f",
   "outputs": [],
   "execution_count": null
  },
  {
   "metadata": {},
   "cell_type": "code",
   "source": [
    "pf_return = np.sum(mean_daily_returns * weights) * 252\n",
    "pr_return = round(pf_return, 3)"
   ],
   "id": "d8ff139d6a3e1d81",
   "outputs": [],
   "execution_count": null
  },
  {
   "metadata": {},
   "cell_type": "code",
   "source": [
    "pf_std_dev = np.sqrt(np.dot(weights.T, np.dot(cov_matrix, weights))) * np.sqrt(252)\n",
    "pf_std_dev = round(pf_std_dev,3)"
   ],
   "id": "5e45f7a12ca228a7",
   "outputs": [],
   "execution_count": null
  },
  {
   "metadata": {},
   "cell_type": "code",
   "source": [
    "print('Expected annualized return: ' + '{:.1%}'.format(pf_return))\n",
    "print(\"Volatility: \" + \"{:.1%}\".format(pf_std_dev))"
   ],
   "id": "cd50608854c259e2",
   "outputs": [],
   "execution_count": null
  },
  {
   "metadata": {},
   "cell_type": "code",
   "source": [
    "#calculate expected returns and sample covariance \n",
    "expected_returns = expected_returns.mean_historical_return(data)"
   ],
   "id": "bbac731a08c94a5a",
   "outputs": [],
   "execution_count": null
  },
  {
   "metadata": {},
   "cell_type": "code",
   "source": "expected_returns",
   "id": "bd172108df27ff69",
   "outputs": [],
   "execution_count": null
  },
  {
   "metadata": {},
   "cell_type": "code",
   "source": "risk_model = risk_models.sample_cov(data)",
   "id": "e56b10eb053a606e",
   "outputs": [],
   "execution_count": null
  },
  {
   "metadata": {},
   "cell_type": "code",
   "source": "risk_model",
   "id": "f161cba8d7b04f36",
   "outputs": [],
   "execution_count": null
  },
  {
   "metadata": {},
   "cell_type": "code",
   "source": [
    "#Optimize for maximal sharp ratio\n",
    "ef = EfficientFrontier(expected_returns, risk_model)\n",
    "raw_weight = ef.max_sharpe()\n",
    "cleaned_weights = ef.clean_weights()\n",
    "print(cleaned_weights)\n",
    "ef.portfolio_performance(verbose=True)"
   ],
   "id": "f943d0eb9d09e653",
   "outputs": [],
   "execution_count": null
  },
  {
   "metadata": {},
   "cell_type": "code",
   "source": "current_price = data.iloc[-1] #last price of the stock",
   "id": "4bc188b1d2278ca8",
   "outputs": [],
   "execution_count": null
  },
  {
   "metadata": {},
   "cell_type": "code",
   "source": [
    "#cretate dictionary for the stock weights\n",
    "w_data = {'AMZN': 0.10, 'CCJ': 0.10, 'LMT': 0.10, 'PLTR': 0.10, 'PANW': 0.10, 'LULU': 0.10, 'SOFI': 0.10, 'XOM': 0.10, 'AMGN': 0.10, 'AMAT': 0.10}"
   ],
   "id": "a2a5c8966918097a",
   "outputs": [],
   "execution_count": null
  },
  {
   "metadata": {},
   "cell_type": "markdown",
   "source": "Using the Efficient Frontier for portfolio optimization can be limiting, as it tends to select the five stocks with the highest returns, making the portfolio less risk-averse",
   "id": "55b7299723ce7d67"
  },
  {
   "metadata": {},
   "cell_type": "code",
   "source": [
    "da = DiscreteAllocation(w_data, current_price, total_portfolio_value=10000)\n",
    "allocation, leftover = da.greedy_portfolio()\n",
    "print('Discrete allocation:', allocation)\n",
    "print('Funds remaining: ${:.2f}'.format(leftover))"
   ],
   "id": "c74eda435b653042",
   "outputs": [],
   "execution_count": null
  },
  {
   "metadata": {},
   "cell_type": "code",
   "source": "",
   "id": "39488ea2a123377e",
   "outputs": [],
   "execution_count": null
  }
 ],
 "metadata": {
  "kernelspec": {
   "display_name": "Python 3",
   "language": "python",
   "name": "python3"
  },
  "language_info": {
   "codemirror_mode": {
    "name": "ipython",
    "version": 2
   },
   "file_extension": ".py",
   "mimetype": "text/x-python",
   "name": "python",
   "nbconvert_exporter": "python",
   "pygments_lexer": "ipython2",
   "version": "2.7.6"
  }
 },
 "nbformat": 4,
 "nbformat_minor": 5
}
