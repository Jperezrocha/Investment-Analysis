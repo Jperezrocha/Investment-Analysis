{
 "cells": [
  {
   "cell_type": "markdown",
   "source": [
    "# Technical Indicators\n",
    "\n",
    "## SMA\n",
    "\n",
    "Simple Moving Average (SMA) is a technical indicator that is commonly used in financial analysis and trading. Moving averages are versatile tools that can be used to identify trends, support and resistance levels, and other trading opportunities.\n",
    "\n",
    "Simple moving averages can be used in various ways, including:\n",
    "\n",
    "- Trend Identification: Moving averages can help identify the overall trend of a security by smoothing out fluctuations in the price.\n",
    "- Support and Resistance: Moving averages can act as support or resistance levels, as they provide a visual representation of the average price of a security over a given time period.\n",
    "- Buy and Sell Signals: Moving averages can be used to generate buy and sell signals by combining them with other technical indicators or chart patterns.\n",
    "- Momentum Indicator: Moving averages can be used as a momentum indicator, which measures the rate of change in the price of a security.\n",
    "\n",
    "## EMA\n",
    "\n",
    "An Exponential Moving Average (EMA) is a technical indicator that is often used in financial analysis and trading. Its use cases and calculations are very similar to Simple Moving Averages (SMA) but with an added variable of weights.\n",
    "\n",
    "Unlike Simple Moving Averages which give equal weight to every period, Exponential Moving Averages give higher weights to the most recent periods, as to better reflect the latest price action.\n",
    "\n",
    "Exponential moving averages can be used in various ways, including:\n",
    "\n",
    "- Trend Identification: Moving averages can help identify the overall trend of a security by smoothing out fluctuations in the price.\n",
    "- Support and Resistance: Moving averages can act as support or resistance levels, as they provide a visual representation of the average price of a security over a given time period.\n",
    "- Buy and Sell Signals: Moving averages can be used to generate buy and sell signals by combining them with other technical indicators or chart patterns.\n",
    "- Momentum Indicator: Moving averages can be used as a momentum indicator, which measures the rate of change in the price of a security.\n"
   ],
   "metadata": {
    "collapsed": false
   },
   "id": "3d94b5efdbe67911"
  },
  {
   "cell_type": "markdown",
   "source": [
    "# Trading Strategy\n",
    "\n",
    "## Chose Underlying Asset\n",
    "\n",
    "- Select Highly liquid stocks with a history of significant price movements.This liquidity is crucial for finding options with tighter bid-ask spreads.\n",
    "\n",
    "## Technical Indicators\n",
    "\n",
    "- Moving Averages use the crossover of a short-term MA (10 days) above a long term MA (50 days) as bullish signal. Conversely, a crossover below signals bearish conditions.\n",
    "- Relative strength index (RSI): An RSI below 30 indicates oversold conditions (potential for bullish reversal), while 70 suggests overbought conditions (potential for bearish reversal)\n",
    "- Support and Resistance Levels: Identify key price levels. Buying calls when the price bounces of a support or buying puts when it falls from resistance can be effective.\n",
    "\n",
    "## Strategy for Buying Calls\n",
    "\n",
    "- Bullish Signal: Look for a bullish crossover in MAs, RSI moving above 30 (indicating a move from oversold to normal), and a bounce off a support level.\n",
    "- Timing: Buy calls 20-30 days to expiration to balance between time decay and the cost of the option. Opt for slightly out-of-the-money (OTM) calls to potentially increase returns.\n",
    "- Exit Plan: Set a profit target based on resistance levels or a percentage gain. Implement a stop-loss to limit losses if the trade moves against you.\n",
    "\n",
    "## Strategy for Buying Puts\n",
    "\n",
    "- Bearish Signal: A bearish MA crossover, RSI moving below 70 (indicating a move from overbought to normal), and a rejection at a resistance level suggest a bearish turn.\n",
    "- Timing: Purchase puts 20-30 days to expiration. Choose slightly OTM puts to manage costs while retaining the potential for profit.\n",
    "- Exit Plan: Define a profit target based on support levels or a set percentage gain. Use a stop-loss to protect against significant losses."
   ],
   "metadata": {
    "collapsed": false
   },
   "id": "30dcbefdab65107f"
  },
  {
   "metadata": {},
   "cell_type": "code",
   "outputs": [],
   "execution_count": null,
   "source": [
    "import pandas as pd\n",
    "import numpy as np\n",
    "import matplotlib.pyplot as plt\n",
    "import datetime as dt\n",
    "import seaborn as sns\n",
    "import yfinance as yf\n",
    "from sklearn.tree import DecisionTreeClassifier\n",
    "from sklearn.model_selection import train_test_split\n",
    "from sklearn.metrics import accuracy_score\n",
    "\n",
    "#Back testing\n",
    "from backtesting import Backtest, Strategy\n",
    "from backtesting.lib import crossover\n",
    "from backtesting.test import SMA"
   ],
   "id": "b8f2072930a993a6"
  },
  {
   "metadata": {},
   "cell_type": "code",
   "outputs": [],
   "execution_count": null,
   "source": [
    "API_KEY = 'ec2d6f3b0cc9395fbce02f1316669229'\n",
    "ticker = 'CCJ'"
   ],
   "id": "4cf0a591ee99474b"
  },
  {
   "metadata": {},
   "cell_type": "code",
   "outputs": [],
   "execution_count": null,
   "source": [
    "#Earning calendar \n",
    "url = f'https://financialmodelingprep.com/api/v3/historical/earning_calendar/{ticker}L&apikey={API_KEY}'\n",
    "calendar = pd.read_json(url)\n",
    "print(calendar)"
   ],
   "id": "24f006f28572b61d"
  },
  {
   "metadata": {},
   "cell_type": "code",
   "outputs": [],
   "execution_count": null,
   "source": [
    "url = f'https://financialmodelingprep.com/api/v3/technical_indicator/1day/{ticker}?type=rsi&period=10&apikey={API_KEY}'\n",
    "data = pd.read_json(url)\n",
    "RSI = pd.DataFrame(data)"
   ],
   "id": "7033e3c4c6bf1307"
  },
  {
   "metadata": {},
   "cell_type": "code",
   "outputs": [],
   "execution_count": null,
   "source": [
    "url = f'https://financialmodelingprep.com/api/v3/technical_indicator/1day/{ticker}?type=sma&period=10&apikey={API_KEY}'\n",
    "data = pd.read_json(url)\n",
    "SMA10 = pd.DataFrame(data)"
   ],
   "id": "b9b99b2dbbdcfcd3"
  },
  {
   "metadata": {},
   "cell_type": "code",
   "outputs": [],
   "execution_count": null,
   "source": [
    "url = f'https://financialmodelingprep.com/api/v3/technical_indicator/1day/{ticker}?type=sma&period=50&apikey={API_KEY}'\n",
    "data = pd.read_json(url)\n",
    "SMA50 = pd.DataFrame(data)"
   ],
   "id": "7babefc3107db2d9"
  },
  {
   "metadata": {},
   "cell_type": "code",
   "outputs": [],
   "execution_count": null,
   "source": [
    "for x in [RSI, SMA10]: \n",
    "    x.drop(['open', 'high', 'low', 'volume', 'date'], axis=1, inplace=True)"
   ],
   "id": "482410c5ff1776a9"
  },
  {
   "metadata": {},
   "cell_type": "code",
   "outputs": [],
   "execution_count": null,
   "source": [
    "#Renam SMA Columns to their periods \n",
    "SMA10.rename(columns={'sma':'SMA10'}, inplace=True)\n",
    "SMA50.rename(columns={'sma':'SMA50'}, inplace=True)"
   ],
   "id": "6a944ae66ccfa75"
  },
  {
   "metadata": {},
   "cell_type": "code",
   "outputs": [],
   "execution_count": null,
   "source": [
    "\n",
    "\n",
    "data = pd.concat([SMA50, SMA10, RSI], axis='columns', join='inner')\n",
    "data = data.sort_values(by='date')"
   ],
   "id": "d4fac6951612a420"
  },
  {
   "metadata": {},
   "cell_type": "code",
   "outputs": [],
   "execution_count": null,
   "source": [
    "data['date'] = pd.to_datetime(data['date'])\n",
    "data.set_index('date', inplace=True)"
   ],
   "id": "a1ab996e9aba0b83"
  },
  {
   "metadata": {},
   "cell_type": "code",
   "outputs": [],
   "execution_count": null,
   "source": [
    "#drop duplicate columns\n",
    "data = data.loc[:,~data.columns.duplicated()]"
   ],
   "id": "10a1376bd0848d5f"
  },
  {
   "metadata": {},
   "cell_type": "code",
   "outputs": [],
   "execution_count": null,
   "source": "data",
   "id": "6c347e55ab4744fe"
  },
  {
   "metadata": {},
   "cell_type": "code",
   "outputs": [],
   "execution_count": null,
   "source": [
    "plt.figure(figsize=(16, 8))\n",
    "plt.plot(data['SMA10'], label='SMA10', color='orange')\n",
    "plt.plot(data['SMA50'], label='SMA50', color='blue')\n",
    "plt.plot(data['close'], label='Close', color='green')\n",
    "plt.title('SMA10 vs SMA50')\n",
    "plt.xlabel('Date')\n",
    "plt.ylabel('Price')\n",
    "plt.legend(loc='upper left')\n",
    "plt.show()"
   ],
   "id": "8ac327d3d60a0a11"
  },
  {
   "metadata": {},
   "cell_type": "code",
   "outputs": [],
   "execution_count": null,
   "source": [
    "#pct_change\n",
    "data['daily_return']= data['close'].pct_change(-1) * 100 * -1"
   ],
   "id": "cfbbdae2b83c6050"
  },
  {
   "metadata": {},
   "cell_type": "code",
   "outputs": [],
   "execution_count": null,
   "source": "data['change_direction'] = np.where(data['daily_return'] > 0, 'UP', 'DOWN')",
   "id": "94101820c4db46ff"
  },
  {
   "metadata": {},
   "cell_type": "code",
   "outputs": [],
   "execution_count": null,
   "source": "data = data.dropna()",
   "id": "d1af234192a1dce6"
  },
  {
   "metadata": {},
   "cell_type": "code",
   "outputs": [],
   "execution_count": null,
   "source": "data['change_direction'].value_counts()",
   "id": "43e54033cbbdc6d0"
  },
  {
   "metadata": {},
   "cell_type": "code",
   "outputs": [],
   "execution_count": null,
   "source": [
    "#capitalize the first letter of each column\n",
    "data.columns = data.columns.str.capitalize()"
   ],
   "id": "bdaa01fad00f9229"
  },
  {
   "metadata": {},
   "cell_type": "code",
   "outputs": [],
   "execution_count": null,
   "source": "data",
   "id": "25fb70c0e733d321"
  },
  {
   "metadata": {},
   "cell_type": "markdown",
   "source": [
    "\n",
    "## Machine Learning Model"
   ],
   "id": "2815215e3e579747"
  },
  {
   "metadata": {},
   "cell_type": "code",
   "outputs": [],
   "execution_count": null,
   "source": [
    "y = data.Change_direction\n",
    "x = data[['Close', 'High', 'Low', 'Volume']]"
   ],
   "id": "fb3b2647680b92f4"
  },
  {
   "metadata": {},
   "cell_type": "code",
   "outputs": [],
   "execution_count": null,
   "source": [
    "#make uppercase just the first letter of each column\n",
    "x.columns = x.columns.str.capitalize()"
   ],
   "id": "b5b35e79f669df5"
  },
  {
   "metadata": {},
   "cell_type": "code",
   "outputs": [],
   "execution_count": null,
   "source": [
    "#split the data\n",
    "x_train, x_test, y_train, y_test = train_test_split(x, y, test_size=0.2, random_state=0)"
   ],
   "id": "150c6d3dbf71821b"
  },
  {
   "metadata": {},
   "cell_type": "code",
   "outputs": [],
   "execution_count": null,
   "source": "model = DecisionTreeClassifier()",
   "id": "cd9d64332cdfc21f"
  },
  {
   "metadata": {},
   "cell_type": "code",
   "outputs": [],
   "execution_count": null,
   "source": "model.fit(X=x_train, y=y_train)",
   "id": "a1196d3129d9cbe1"
  },
  {
   "metadata": {},
   "cell_type": "code",
   "outputs": [],
   "execution_count": null,
   "source": "y_pred = model.predict(X=x_test) ",
   "id": "6191a683650ae39c"
  },
  {
   "metadata": {},
   "cell_type": "code",
   "outputs": [],
   "execution_count": null,
   "source": [
    "accuracy = accuracy_score(y_test, y_pred)\n",
    "print(accuracy)"
   ],
   "id": "d651c7155b5efe00"
  },
  {
   "metadata": {},
   "cell_type": "code",
   "outputs": [],
   "execution_count": null,
   "source": [
    "#comparison data frame\n",
    "comparison = pd.DataFrame({'Actual': y_test, 'Predicted': y_pred})\n",
    "comparison"
   ],
   "id": "3c9a2643320f5e02"
  },
  {
   "metadata": {},
   "cell_type": "code",
   "outputs": [],
   "execution_count": null,
   "source": "comp  = comparison['Actual'] == comparison['Predicted']",
   "id": "107962b4d2221006"
  },
  {
   "metadata": {},
   "cell_type": "code",
   "outputs": [],
   "execution_count": null,
   "source": "comp.sum()",
   "id": "569b639ec5b28bf3"
  },
  {
   "metadata": {},
   "cell_type": "code",
   "outputs": [],
   "execution_count": null,
   "source": "len(comp)",
   "id": "aa79811ba854261a"
  },
  {
   "metadata": {},
   "cell_type": "code",
   "outputs": [],
   "execution_count": null,
   "source": "comp.sum() / len(comp)",
   "id": "bb853f0bfa296822"
  },
  {
   "metadata": {},
   "cell_type": "markdown",
   "source": "## Backtesting",
   "id": "9ceb2ba323e6a0b7"
  },
  {
   "metadata": {},
   "cell_type": "code",
   "outputs": [],
   "execution_count": null,
   "source": [
    "\n",
    "x_today = x.iloc[[-1], :]"
   ],
   "id": "e31e06c3eca863b0"
  },
  {
   "metadata": {},
   "cell_type": "code",
   "outputs": [],
   "execution_count": null,
   "source": "x_today",
   "id": "29bf0d95a325a5ca"
  },
  {
   "metadata": {},
   "cell_type": "code",
   "outputs": [],
   "execution_count": null,
   "source": "forecast = model.predict(x_today)[0]",
   "id": "6433af9f3703fa68"
  },
  {
   "metadata": {},
   "cell_type": "code",
   "outputs": [],
   "execution_count": null,
   "source": "forecast",
   "id": "aaf1965fc7415bb7"
  },
  {
   "metadata": {},
   "cell_type": "code",
   "outputs": [],
   "execution_count": null,
   "source": "data.sort_index(inplace=True)",
   "id": "3851f0542fda734b"
  },
  {
   "metadata": {},
   "cell_type": "code",
   "outputs": [],
   "execution_count": null,
   "source": "data",
   "id": "e3548138451a8a43"
  },
  {
   "metadata": {},
   "cell_type": "code",
   "outputs": [],
   "execution_count": null,
   "source": [
    "class MAOptionStrategy(Strategy):\n",
    "    def init(self):\n",
    "        self.sma10 = self.I(lambda x: x, self.data.Sma10)\n",
    "        self.sma50 = self.I(lambda x: x, self.data.Sma50)\n",
    "\n",
    "    def next(self):\n",
    "        # Entry: Buy when Sma10 crosses above Sma50 if not already in position\n",
    "        if not self.position:\n",
    "            if crossover(self.sma10, self.sma50):\n",
    "                self.buy()\n",
    "        # Exit: Sell when Sma50 crosses above Sma10 or add your specific exit criteria\n",
    "        else:\n",
    "            if crossover(self.sma50, self.sma10):\n",
    "                self.position.close()\n",
    "\n",
    "# Assuming 'data' is your DataFrame properly formatted and indexed by DateTime\n",
    "bt = Backtest(data, MAOptionStrategy, cash=10_000, commission=.002)\n",
    "stats = bt.run()\n",
    "print(stats)"
   ],
   "id": "a0b91cf1adf56ae6"
  },
  {
   "metadata": {},
   "cell_type": "code",
   "outputs": [],
   "execution_count": null,
   "source": "bt.plot()",
   "id": "636ebbe83b429e77"
  },
  {
   "metadata": {},
   "cell_type": "markdown",
   "source": "## New Trading Strategy\n",
   "id": "9234c5cdab3f87a2"
  },
  {
   "metadata": {},
   "cell_type": "code",
   "outputs": [],
   "execution_count": null,
   "source": [
    "from pandas_datareader import data\n",
    "import yfinance as yf \n",
    "import quandl  "
   ],
   "id": "262a4169036cc1c8"
  },
  {
   "metadata": {},
   "cell_type": "code",
   "outputs": [],
   "execution_count": null,
   "source": [
    "ticker = 'CCJ'\n",
    "df = yf.download(ticker, start='2000-01-01', end='2024-04-11')"
   ],
   "id": "c0b2a14a89299758"
  },
  {
   "metadata": {},
   "cell_type": "code",
   "outputs": [],
   "execution_count": null,
   "source": "df.head()",
   "id": "ce6f480c26392443"
  },
  {
   "metadata": {},
   "cell_type": "code",
   "outputs": [],
   "execution_count": null,
   "source": "df1  =  quandl.get(\"WIKI/AAPL\", start='2000-01-01', end='2024-04-11')",
   "id": "965b99d067e2dffc"
  },
  {
   "metadata": {},
   "cell_type": "code",
   "outputs": [],
   "execution_count": null,
   "source": "df1",
   "id": "44374ffbe0a5138d"
  },
  {
   "metadata": {},
   "cell_type": "markdown",
   "source": [
    "# Options\n",
    "Pay off from a call option  \n",
    "K = Strike price \n",
    "St = final price of the underlying asset \n",
    "max(St-K,0)\n",
    "if St>K --> Option will be excercised \n",
    "and if St <= K will not be excercised\n",
    "\n",
    "pay off from a short position call option \n",
    "-max(St-K,0) = min(K-St,0) \n",
    "\n",
    "The payoff to the holder of a long position  put option \n",
    "max(K-St,0) \n",
    "\n",
    "The pay off from  a shor put is \n",
    "-max(K-St,0) = min(St-K,0)\n",
    "\n",
    "## Call Option \n",
    "S = Stock Price\n",
    "K = Strike Price \n",
    "if S > K --> in the money \n",
    "\n",
    "if S = K --> At the money\n",
    "\n",
    "if S < K --> Out of the Money \n",
    "\n",
    "## Put Option \n",
    "\n",
    "if S < K --> in the money \n",
    "\n",
    "if S = K --> at the money\n",
    "\n",
    "if S > K --> out of the money \n",
    "\n",
    "## Intrinsic Value \n",
    "Is define as the value it would have if there were no time to maturity, so that the excercise decision has to be made immediatley \n",
    "For a call option the intrinsic value  = max(S-K,0) \n",
    "For a put max(K-S,0) \n",
    "\n",
    "The excess of an options value over its intrinsic value is the options time value. The total value of an option is therefore the sum of its intrinsic value and its time value \n"
   ],
   "id": "d8e845f975113283"
  },
  {
   "metadata": {},
   "cell_type": "markdown",
   "source": [
    "# Factors Affecting Option Prices\n",
    "\n",
    "S = Current Stock Price\n",
    "K = Strike Price\n",
    "T = Time to Expiration\n",
    "ò = Volatility of the stock price\n",
    "r = Risk free rate of return\n"
   ],
   "id": "119f26f5195c258c"
  },
  {
   "metadata": {},
   "cell_type": "markdown",
   "source": [
    "S0 = Current Stock Price\n",
    "K = Strike Price\n",
    "T = Time to Expiration\n",
    "St = Stock price at time T(Expiration)\n",
    "r = continuously compounded risk-free rate of interest for an investment maturing at time T(Expiration)\n",
    "C = value of an American call option\n",
    "P = value of an American put option\n",
    "c = value of a European call option\n",
    "p = value of a European put option\n",
    "\n",
    "\n",
    "## Upper Bounds \n",
    "C <= S0\n",
    "c <= S0\n",
    "If this were not the case, it would be possible to make a riskless profit by buying the stock and selling the call option.\n",
    "\n",
    "P <= K (American)\n",
    "p <= ke^(-rT) (European)\n",
    "If this were not the case, it would be possible to make a riskless profit by buying the option and investing the proceeds at the risk-free rate.\n",
    "\n",
    "## Lower Bounds\n",
    "for european put option a no dividend paying stock, a lower bound for the price is \n",
    "Ke^(-rT) - S0"
   ],
   "id": "f16538328d22dfdc"
  },
  {
   "cell_type": "code",
   "source": [
    "import pandas as pd\n",
    "import requests\n",
    "import base64\n"
   ],
   "metadata": {
    "collapsed": false,
    "ExecuteTime": {
     "end_time": "2024-05-09T22:12:19.336266Z",
     "start_time": "2024-05-09T22:12:19.331608Z"
    }
   },
   "id": "54f175d0091512ca",
   "outputs": [],
   "execution_count": 3
  },
  {
   "metadata": {},
   "cell_type": "code",
   "source": "",
   "id": "99f37a12ff074941",
   "outputs": [
    {
     "name": "stdout",
     "output_type": "stream",
     "text": [
      "Click to authenticate: https://api.schwabapi.com/v1/oauth/authorize?client_id=&redirect_uri=https://127.0.0.1\n"
     ]
    }
   ],
   "execution_count": 1
  },
  {
   "metadata": {},
   "cell_type": "code",
   "outputs": [],
   "execution_count": null,
   "source": "",
   "id": "9a5d229b7857010"
  }
 ],
 "metadata": {
  "kernelspec": {
   "display_name": "Python 3",
   "language": "python",
   "name": "python3"
  },
  "language_info": {
   "codemirror_mode": {
    "name": "ipython",
    "version": 2
   },
   "file_extension": ".py",
   "mimetype": "text/x-python",
   "name": "python",
   "nbconvert_exporter": "python",
   "pygments_lexer": "ipython2",
   "version": "2.7.6"
  }
 },
 "nbformat": 4,
 "nbformat_minor": 5
}
