{
 "cells": [
  {
   "cell_type": "markdown",
   "source": [
    "# Technical Indicators\n",
    "\n",
    "## SMA\n",
    "\n",
    "Simple Moving Average (SMA) is a technical indicator that is commonly used in financial analysis and trading. Moving averages are versatile tools that can be used to identify trends, support and resistance levels, and other trading opportunities.\n",
    "\n",
    "Simple moving averages can be used in various ways, including:\n",
    "\n",
    "- Trend Identification: Moving averages can help identify the overall trend of a security by smoothing out fluctuations in the price.\n",
    "- Support and Resistance: Moving averages can act as support or resistance levels, as they provide a visual representation of the average price of a security over a given time period.\n",
    "- Buy and Sell Signals: Moving averages can be used to generate buy and sell signals by combining them with other technical indicators or chart patterns.\n",
    "- Momentum Indicator: Moving averages can be used as a momentum indicator, which measures the rate of change in the price of a security.\n",
    "\n",
    "## EMA\n",
    "\n",
    "An Exponential Moving Average (EMA) is a technical indicator that is often used in financial analysis and trading. Its use cases and calculations are very similar to Simple Moving Averages (SMA) but with an added variable of weights.\n",
    "\n",
    "Unlike Simple Moving Averages which give equal weight to every period, Exponential Moving Averages give higher weights to the most recent periods, as to better reflect the latest price action.\n",
    "\n",
    "Exponential moving averages can be used in various ways, including:\n",
    "\n",
    "- Trend Identification: Moving averages can help identify the overall trend of a security by smoothing out fluctuations in the price.\n",
    "- Support and Resistance: Moving averages can act as support or resistance levels, as they provide a visual representation of the average price of a security over a given time period.\n",
    "- Buy and Sell Signals: Moving averages can be used to generate buy and sell signals by combining them with other technical indicators or chart patterns.\n",
    "- Momentum Indicator: Moving averages can be used as a momentum indicator, which measures the rate of change in the price of a security.\n"
   ],
   "metadata": {
    "collapsed": false
   },
   "id": "3d94b5efdbe67911"
  },
  {
   "cell_type": "markdown",
   "source": [
    "# Trading Strategy\n",
    "\n",
    "## Chose Underlying Asset\n",
    "\n",
    "- Select Highly liquid stocks with a history of significant price movements.This liquidity is crucial for finding options with tighter bid-ask spreads.\n",
    "\n",
    "## Technical Indicators\n",
    "\n",
    "- Moving Averages use the crossover of a short-term MA (10 days) above a long term MA (50 days) as bullish signal. Conversely, a crossover below signals bearish conditions.\n",
    "- Relative strength index (RSI): An RSI below 30 indicates oversold conditions (potential for bullish reversal), while 70 suggests overbought conditions (potential for bearish reversal)\n",
    "- Support and Resistance Levels: Identify key price levels. Buying calls when the price bounces of a support or buying puts when it falls from resistance can be effective.\n",
    "\n",
    "## Strategy for Buying Calls\n",
    "\n",
    "- Bullish Signal: Look for a bullish crossover in MAs, RSI moving above 30 (indicating a move from oversold to normal), and a bounce off a support level.\n",
    "- Timing: Buy calls 20-30 days to expiration to balance between time decay and the cost of the option. Opt for slightly out-of-the-money (OTM) calls to potentially increase returns.\n",
    "- Exit Plan: Set a profit target based on resistance levels or a percentage gain. Implement a stop-loss to limit losses if the trade moves against you.\n",
    "\n",
    "## Strategy for Buying Puts\n",
    "\n",
    "- Bearish Signal: A bearish MA crossover, RSI moving below 70 (indicating a move from overbought to normal), and a rejection at a resistance level suggest a bearish turn.\n",
    "- Timing: Purchase puts 20-30 days to expiration. Choose slightly OTM puts to manage costs while retaining the potential for profit.\n",
    "- Exit Plan: Define a profit target based on support levels or a set percentage gain. Use a stop-loss to protect against significant losses."
   ],
   "metadata": {
    "collapsed": false
   },
   "id": "30dcbefdab65107f"
  },
  {
   "cell_type": "code",
   "outputs": [],
   "source": [
    "import pandas as pd\n",
    "import numpy as np\n",
    "import matplotlib.pyplot as plt\n",
    "import datetime as dt\n",
    "import seaborn as sns\n",
    "import yfinance as yf\n",
    "from sklearn.tree import DecisionTreeClassifier\n",
    "from sklearn.model_selection import train_test_split\n",
    "from sklearn.metrics import accuracy_score\n",
    "\n",
    "#Back testing\n",
    "from backtesting import Backtest, Strategy"
   ],
   "metadata": {
    "collapsed": false,
    "ExecuteTime": {
     "end_time": "2024-03-20T19:38:20.043957Z",
     "start_time": "2024-03-20T19:38:20.016109Z"
    }
   },
   "id": "a4789adfe44d6d3",
   "execution_count": 2298
  },
  {
   "cell_type": "code",
   "outputs": [],
   "source": [
    "API_KEY = 'ec2d6f3b0cc9395fbce02f1316669229'\n",
    "ticker = 'SPY'"
   ],
   "metadata": {
    "collapsed": false,
    "ExecuteTime": {
     "end_time": "2024-03-20T19:38:20.256645Z",
     "start_time": "2024-03-20T19:38:20.253631Z"
    }
   },
   "id": "f26261d7f01f608",
   "execution_count": 2299
  },
  {
   "cell_type": "code",
   "outputs": [],
   "source": [
    "url = f'https://financialmodelingprep.com/api/v3/technical_indicator/1day/{ticker}?type=rsi&period=10&apikey={API_KEY}'\n",
    "data = pd.read_json(url)\n",
    "RSI = pd.DataFrame(data)"
   ],
   "metadata": {
    "collapsed": false,
    "ExecuteTime": {
     "end_time": "2024-03-20T19:38:21.125413Z",
     "start_time": "2024-03-20T19:38:20.273866Z"
    }
   },
   "id": "511d3b6b49c561df",
   "execution_count": 2300
  },
  {
   "cell_type": "code",
   "outputs": [],
   "source": [
    "url = f'https://financialmodelingprep.com/api/v3/technical_indicator/1day/{ticker}?type=sma&period=10&apikey={API_KEY}'\n",
    "data = pd.read_json(url)\n",
    "SMA10 = pd.DataFrame(data)"
   ],
   "metadata": {
    "collapsed": false,
    "ExecuteTime": {
     "end_time": "2024-03-20T19:38:21.877806Z",
     "start_time": "2024-03-20T19:38:21.133105Z"
    }
   },
   "id": "6400d1a37794652f",
   "execution_count": 2301
  },
  {
   "cell_type": "code",
   "outputs": [],
   "source": [
    "url = f'https://financialmodelingprep.com/api/v3/technical_indicator/1day/{ticker}?type=sma&period=50&apikey={API_KEY}'\n",
    "data = pd.read_json(url)\n",
    "SMA50 = pd.DataFrame(data)"
   ],
   "metadata": {
    "collapsed": false,
    "ExecuteTime": {
     "end_time": "2024-03-20T19:38:22.756437Z",
     "start_time": "2024-03-20T19:38:21.880320Z"
    }
   },
   "id": "728fedb177f0bca9",
   "execution_count": 2302
  },
  {
   "cell_type": "code",
   "outputs": [],
   "source": [
    "for x in [RSI, SMA10]: \n",
    "    x.drop(['open', 'high', 'low', 'volume', 'date'], axis=1, inplace=True)"
   ],
   "metadata": {
    "collapsed": false,
    "ExecuteTime": {
     "end_time": "2024-03-20T19:38:22.775761Z",
     "start_time": "2024-03-20T19:38:22.766872Z"
    }
   },
   "id": "ea89cec2700de750",
   "execution_count": 2303
  },
  {
   "cell_type": "code",
   "outputs": [],
   "source": [
    "#Renam SMA Columns to their periods \n",
    "SMA10.rename(columns={'sma':'SMA10'}, inplace=True)\n",
    "SMA50.rename(columns={'sma':'SMA50'}, inplace=True)"
   ],
   "metadata": {
    "collapsed": false,
    "ExecuteTime": {
     "end_time": "2024-03-20T19:38:22.784221Z",
     "start_time": "2024-03-20T19:38:22.777960Z"
    }
   },
   "id": "45f4cc7432e4fa4b",
   "execution_count": 2304
  },
  {
   "cell_type": "code",
   "outputs": [],
   "source": [
    "data = pd.concat([SMA50, SMA10, RSI], axis='columns', join='inner')\n",
    "data = data.sort_values(by='date')"
   ],
   "metadata": {
    "collapsed": false,
    "ExecuteTime": {
     "end_time": "2024-03-20T19:38:22.795400Z",
     "start_time": "2024-03-20T19:38:22.787144Z"
    }
   },
   "id": "e79a98c66a76303a",
   "execution_count": 2305
  },
  {
   "cell_type": "code",
   "outputs": [],
   "source": [
    "data['date'] = pd.to_datetime(data['date'])\n",
    "data.set_index('date', inplace=True)"
   ],
   "metadata": {
    "collapsed": false,
    "ExecuteTime": {
     "end_time": "2024-03-20T19:38:22.806536Z",
     "start_time": "2024-03-20T19:38:22.796999Z"
    }
   },
   "id": "cb5705587e83f5a4",
   "execution_count": 2306
  },
  {
   "cell_type": "code",
   "outputs": [],
   "source": [
    "#drop duplicate columns\n",
    "data = data.loc[:,~data.columns.duplicated()]"
   ],
   "metadata": {
    "collapsed": false,
    "ExecuteTime": {
     "end_time": "2024-03-20T19:38:22.813948Z",
     "start_time": "2024-03-20T19:38:22.808579Z"
    }
   },
   "id": "21903070562dde93",
   "execution_count": 2307
  },
  {
   "cell_type": "code",
   "outputs": [
    {
     "data": {
      "text/plain": "              open    high     low     close     volume       SMA50  \\\ndate                                                                  \n2019-03-22  283.22  283.80  279.18  279.2500  122659286  273.068000   \n2019-03-25  278.87  280.19  277.64  279.0400   85575197  273.471200   \n2019-03-26  280.99  282.18  279.56  281.1200   68125920  273.914000   \n2019-03-27  281.11  281.76  277.93  279.6500   72224722  274.359000   \n2019-03-28  280.35  281.21  279.07  280.7100   56238545  274.766200   \n...            ...     ...     ...       ...        ...         ...   \n2024-03-14  516.97  517.13  511.82  514.9500  110171820  494.188000   \n2024-03-15  510.21  511.70  508.12  509.8300  107646297  495.008800   \n2024-03-18  514.00  515.48  512.44  512.8600   88893331  495.920400   \n2024-03-19  512.15  516.00  511.12  515.7100   60755263  496.876200   \n2024-03-20  515.77  520.51  515.08  520.3799   47305911  497.791798   \n\n                SMA10        rsi  \ndate                              \n2019-03-22  281.20000  64.766141  \n2019-03-25  281.26000  63.426746  \n2019-03-26  281.42300  70.207388  \n2019-03-27  281.25400  61.285147  \n2019-03-28  281.20900  64.862846  \n...               ...        ...  \n2024-03-14  512.75900  63.224744  \n2024-03-15  512.45700  52.011240  \n2024-03-18  512.51300  57.023313  \n2024-03-19  513.36600  61.252714  \n2024-03-20  514.42899  67.140213  \n\n[1258 rows x 8 columns]",
      "text/html": "<div>\n<style scoped>\n    .dataframe tbody tr th:only-of-type {\n        vertical-align: middle;\n    }\n\n    .dataframe tbody tr th {\n        vertical-align: top;\n    }\n\n    .dataframe thead th {\n        text-align: right;\n    }\n</style>\n<table border=\"1\" class=\"dataframe\">\n  <thead>\n    <tr style=\"text-align: right;\">\n      <th></th>\n      <th>open</th>\n      <th>high</th>\n      <th>low</th>\n      <th>close</th>\n      <th>volume</th>\n      <th>SMA50</th>\n      <th>SMA10</th>\n      <th>rsi</th>\n    </tr>\n    <tr>\n      <th>date</th>\n      <th></th>\n      <th></th>\n      <th></th>\n      <th></th>\n      <th></th>\n      <th></th>\n      <th></th>\n      <th></th>\n    </tr>\n  </thead>\n  <tbody>\n    <tr>\n      <th>2019-03-22</th>\n      <td>283.22</td>\n      <td>283.80</td>\n      <td>279.18</td>\n      <td>279.2500</td>\n      <td>122659286</td>\n      <td>273.068000</td>\n      <td>281.20000</td>\n      <td>64.766141</td>\n    </tr>\n    <tr>\n      <th>2019-03-25</th>\n      <td>278.87</td>\n      <td>280.19</td>\n      <td>277.64</td>\n      <td>279.0400</td>\n      <td>85575197</td>\n      <td>273.471200</td>\n      <td>281.26000</td>\n      <td>63.426746</td>\n    </tr>\n    <tr>\n      <th>2019-03-26</th>\n      <td>280.99</td>\n      <td>282.18</td>\n      <td>279.56</td>\n      <td>281.1200</td>\n      <td>68125920</td>\n      <td>273.914000</td>\n      <td>281.42300</td>\n      <td>70.207388</td>\n    </tr>\n    <tr>\n      <th>2019-03-27</th>\n      <td>281.11</td>\n      <td>281.76</td>\n      <td>277.93</td>\n      <td>279.6500</td>\n      <td>72224722</td>\n      <td>274.359000</td>\n      <td>281.25400</td>\n      <td>61.285147</td>\n    </tr>\n    <tr>\n      <th>2019-03-28</th>\n      <td>280.35</td>\n      <td>281.21</td>\n      <td>279.07</td>\n      <td>280.7100</td>\n      <td>56238545</td>\n      <td>274.766200</td>\n      <td>281.20900</td>\n      <td>64.862846</td>\n    </tr>\n    <tr>\n      <th>...</th>\n      <td>...</td>\n      <td>...</td>\n      <td>...</td>\n      <td>...</td>\n      <td>...</td>\n      <td>...</td>\n      <td>...</td>\n      <td>...</td>\n    </tr>\n    <tr>\n      <th>2024-03-14</th>\n      <td>516.97</td>\n      <td>517.13</td>\n      <td>511.82</td>\n      <td>514.9500</td>\n      <td>110171820</td>\n      <td>494.188000</td>\n      <td>512.75900</td>\n      <td>63.224744</td>\n    </tr>\n    <tr>\n      <th>2024-03-15</th>\n      <td>510.21</td>\n      <td>511.70</td>\n      <td>508.12</td>\n      <td>509.8300</td>\n      <td>107646297</td>\n      <td>495.008800</td>\n      <td>512.45700</td>\n      <td>52.011240</td>\n    </tr>\n    <tr>\n      <th>2024-03-18</th>\n      <td>514.00</td>\n      <td>515.48</td>\n      <td>512.44</td>\n      <td>512.8600</td>\n      <td>88893331</td>\n      <td>495.920400</td>\n      <td>512.51300</td>\n      <td>57.023313</td>\n    </tr>\n    <tr>\n      <th>2024-03-19</th>\n      <td>512.15</td>\n      <td>516.00</td>\n      <td>511.12</td>\n      <td>515.7100</td>\n      <td>60755263</td>\n      <td>496.876200</td>\n      <td>513.36600</td>\n      <td>61.252714</td>\n    </tr>\n    <tr>\n      <th>2024-03-20</th>\n      <td>515.77</td>\n      <td>520.51</td>\n      <td>515.08</td>\n      <td>520.3799</td>\n      <td>47305911</td>\n      <td>497.791798</td>\n      <td>514.42899</td>\n      <td>67.140213</td>\n    </tr>\n  </tbody>\n</table>\n<p>1258 rows × 8 columns</p>\n</div>"
     },
     "execution_count": 2308,
     "metadata": {},
     "output_type": "execute_result"
    }
   ],
   "source": [
    "data"
   ],
   "metadata": {
    "collapsed": false,
    "ExecuteTime": {
     "end_time": "2024-03-20T19:38:22.827909Z",
     "start_time": "2024-03-20T19:38:22.814863Z"
    }
   },
   "id": "ca6146832c94b640",
   "execution_count": 2308
  },
  {
   "cell_type": "code",
   "outputs": [
    {
     "data": {
      "text/plain": "<Figure size 1600x800 with 1 Axes>",
      "image/png": "[encoded data removed]"
     },
     "metadata": {},
     "output_type": "display_data"
    }
   ],
   "source": [
    "plt.figure(figsize=(16, 8))\n",
    "plt.plot(data['SMA10'], label='SMA10', color='orange')\n",
    "plt.plot(data['SMA50'], label='SMA50', color='blue')\n",
    "plt.plot(data['close'], label='Close', color='green')\n",
    "plt.title('SMA10 vs SMA50')\n",
    "plt.xlabel('Date')\n",
    "plt.ylabel('Price')\n",
    "plt.legend(loc='upper left')\n",
    "plt.show()"
   ],
   "metadata": {
    "collapsed": false,
    "ExecuteTime": {
     "end_time": "2024-03-20T19:38:23.043530Z",
     "start_time": "2024-03-20T19:38:22.834669Z"
    }
   },
   "id": "21d03057fd9d612f",
   "execution_count": 2309
  },
  {
   "cell_type": "code",
   "outputs": [
    {
     "ename": "NameError",
     "evalue": "name 'data' is not defined",
     "output_type": "error",
     "traceback": [
      "\u001B[0;31m---------------------------------------------------------------------------\u001B[0m",
      "\u001B[0;31mNameError\u001B[0m                                 Traceback (most recent call last)",
      "Cell \u001B[0;32mIn[1], line 2\u001B[0m\n\u001B[1;32m      1\u001B[0m \u001B[38;5;66;03m#pct_change\u001B[39;00m\n\u001B[0;32m----> 2\u001B[0m data[\u001B[38;5;124m'\u001B[39m\u001B[38;5;124mdaily_return\u001B[39m\u001B[38;5;124m'\u001B[39m]\u001B[38;5;241m=\u001B[39m \u001B[43mdata\u001B[49m[\u001B[38;5;124m'\u001B[39m\u001B[38;5;124mclose\u001B[39m\u001B[38;5;124m'\u001B[39m]\u001B[38;5;241m.\u001B[39mpct_change(\u001B[38;5;241m-\u001B[39m\u001B[38;5;241m1\u001B[39m) \u001B[38;5;241m*\u001B[39m \u001B[38;5;241m100\u001B[39m \u001B[38;5;241m*\u001B[39m \u001B[38;5;241m-\u001B[39m\u001B[38;5;241m1\u001B[39m\n",
      "\u001B[0;31mNameError\u001B[0m: name 'data' is not defined"
     ]
    }
   ],
   "source": [
    "#pct_change\n",
    "data['daily_return']= data['close'].pct_change(-1) * 100 * -1"
   ],
   "metadata": {
    "collapsed": false,
    "ExecuteTime": {
     "end_time": "2024-03-21T22:00:29.200630Z",
     "start_time": "2024-03-21T22:00:29.033526Z"
    }
   },
   "id": "fcf942b5b527fb81",
   "execution_count": 1
  },
  {
   "cell_type": "code",
   "outputs": [],
   "source": [
    "data['change_direction'] = np.where(data['daily_return'] > 0, 'UP', 'DOWN')"
   ],
   "metadata": {
    "collapsed": false,
    "ExecuteTime": {
     "end_time": "2024-03-20T19:38:23.057944Z",
     "start_time": "2024-03-20T19:38:23.053534Z"
    }
   },
   "id": "6b53af9f63e56b3d",
   "execution_count": 2311
  },
  {
   "cell_type": "code",
   "outputs": [],
   "source": [
    "data = data.dropna()"
   ],
   "metadata": {
    "collapsed": false,
    "ExecuteTime": {
     "end_time": "2024-03-20T19:38:23.065892Z",
     "start_time": "2024-03-20T19:38:23.059186Z"
    }
   },
   "id": "8592e4d2066c1126",
   "execution_count": 2312
  },
  {
   "cell_type": "code",
   "outputs": [
    {
     "data": {
      "text/plain": "              open    high     low   close     volume     SMA50    SMA10  \\\ndate                                                                       \n2019-03-22  283.22  283.80  279.18  279.25  122659286  273.0680  281.200   \n2019-03-25  278.87  280.19  277.64  279.04   85575197  273.4712  281.260   \n2019-03-26  280.99  282.18  279.56  281.12   68125920  273.9140  281.423   \n2019-03-27  281.11  281.76  277.93  279.65   72224722  274.3590  281.254   \n2019-03-28  280.35  281.21  279.07  280.71   56238545  274.7662  281.209   \n...            ...     ...     ...     ...        ...       ...      ...   \n2024-03-13  517.11  517.29  514.49  515.97   55104088  493.3420  512.072   \n2024-03-14  516.97  517.13  511.82  514.95  110171820  494.1880  512.759   \n2024-03-15  510.21  511.70  508.12  509.83  107646297  495.0088  512.457   \n2024-03-18  514.00  515.48  512.44  512.86   88893331  495.9204  512.513   \n2024-03-19  512.15  516.00  511.12  515.71   60755263  496.8762  513.366   \n\n                  rsi  daily_return change_direction  \ndate                                                  \n2019-03-22  64.766141     -0.075258             DOWN  \n2019-03-25  63.426746      0.739898               UP  \n2019-03-26  70.207388     -0.525657             DOWN  \n2019-03-27  61.285147      0.377614               UP  \n2019-03-28  64.862846      0.626593               UP  \n...               ...           ...              ...  \n2024-03-13  65.767035     -0.198077             DOWN  \n2024-03-14  63.224744     -1.004256             DOWN  \n2024-03-15  52.011240      0.590805               UP  \n2024-03-18  57.023313      0.552636               UP  \n2024-03-19  61.252714      0.897402               UP  \n\n[1257 rows x 10 columns]",
      "text/html": "<div>\n<style scoped>\n    .dataframe tbody tr th:only-of-type {\n        vertical-align: middle;\n    }\n\n    .dataframe tbody tr th {\n        vertical-align: top;\n    }\n\n    .dataframe thead th {\n        text-align: right;\n    }\n</style>\n<table border=\"1\" class=\"dataframe\">\n  <thead>\n    <tr style=\"text-align: right;\">\n      <th></th>\n      <th>open</th>\n      <th>high</th>\n      <th>low</th>\n      <th>close</th>\n      <th>volume</th>\n      <th>SMA50</th>\n      <th>SMA10</th>\n      <th>rsi</th>\n      <th>daily_return</th>\n      <th>change_direction</th>\n    </tr>\n    <tr>\n      <th>date</th>\n      <th></th>\n      <th></th>\n      <th></th>\n      <th></th>\n      <th></th>\n      <th></th>\n      <th></th>\n      <th></th>\n      <th></th>\n      <th></th>\n    </tr>\n  </thead>\n  <tbody>\n    <tr>\n      <th>2019-03-22</th>\n      <td>283.22</td>\n      <td>283.80</td>\n      <td>279.18</td>\n      <td>279.25</td>\n      <td>122659286</td>\n      <td>273.0680</td>\n      <td>281.200</td>\n      <td>64.766141</td>\n      <td>-0.075258</td>\n      <td>DOWN</td>\n    </tr>\n    <tr>\n      <th>2019-03-25</th>\n      <td>278.87</td>\n      <td>280.19</td>\n      <td>277.64</td>\n      <td>279.04</td>\n      <td>85575197</td>\n      <td>273.4712</td>\n      <td>281.260</td>\n      <td>63.426746</td>\n      <td>0.739898</td>\n      <td>UP</td>\n    </tr>\n    <tr>\n      <th>2019-03-26</th>\n      <td>280.99</td>\n      <td>282.18</td>\n      <td>279.56</td>\n      <td>281.12</td>\n      <td>68125920</td>\n      <td>273.9140</td>\n      <td>281.423</td>\n      <td>70.207388</td>\n      <td>-0.525657</td>\n      <td>DOWN</td>\n    </tr>\n    <tr>\n      <th>2019-03-27</th>\n      <td>281.11</td>\n      <td>281.76</td>\n      <td>277.93</td>\n      <td>279.65</td>\n      <td>72224722</td>\n      <td>274.3590</td>\n      <td>281.254</td>\n      <td>61.285147</td>\n      <td>0.377614</td>\n      <td>UP</td>\n    </tr>\n    <tr>\n      <th>2019-03-28</th>\n      <td>280.35</td>\n      <td>281.21</td>\n      <td>279.07</td>\n      <td>280.71</td>\n      <td>56238545</td>\n      <td>274.7662</td>\n      <td>281.209</td>\n      <td>64.862846</td>\n      <td>0.626593</td>\n      <td>UP</td>\n    </tr>\n    <tr>\n      <th>...</th>\n      <td>...</td>\n      <td>...</td>\n      <td>...</td>\n      <td>...</td>\n      <td>...</td>\n      <td>...</td>\n      <td>...</td>\n      <td>...</td>\n      <td>...</td>\n      <td>...</td>\n    </tr>\n    <tr>\n      <th>2024-03-13</th>\n      <td>517.11</td>\n      <td>517.29</td>\n      <td>514.49</td>\n      <td>515.97</td>\n      <td>55104088</td>\n      <td>493.3420</td>\n      <td>512.072</td>\n      <td>65.767035</td>\n      <td>-0.198077</td>\n      <td>DOWN</td>\n    </tr>\n    <tr>\n      <th>2024-03-14</th>\n      <td>516.97</td>\n      <td>517.13</td>\n      <td>511.82</td>\n      <td>514.95</td>\n      <td>110171820</td>\n      <td>494.1880</td>\n      <td>512.759</td>\n      <td>63.224744</td>\n      <td>-1.004256</td>\n      <td>DOWN</td>\n    </tr>\n    <tr>\n      <th>2024-03-15</th>\n      <td>510.21</td>\n      <td>511.70</td>\n      <td>508.12</td>\n      <td>509.83</td>\n      <td>107646297</td>\n      <td>495.0088</td>\n      <td>512.457</td>\n      <td>52.011240</td>\n      <td>0.590805</td>\n      <td>UP</td>\n    </tr>\n    <tr>\n      <th>2024-03-18</th>\n      <td>514.00</td>\n      <td>515.48</td>\n      <td>512.44</td>\n      <td>512.86</td>\n      <td>88893331</td>\n      <td>495.9204</td>\n      <td>512.513</td>\n      <td>57.023313</td>\n      <td>0.552636</td>\n      <td>UP</td>\n    </tr>\n    <tr>\n      <th>2024-03-19</th>\n      <td>512.15</td>\n      <td>516.00</td>\n      <td>511.12</td>\n      <td>515.71</td>\n      <td>60755263</td>\n      <td>496.8762</td>\n      <td>513.366</td>\n      <td>61.252714</td>\n      <td>0.897402</td>\n      <td>UP</td>\n    </tr>\n  </tbody>\n</table>\n<p>1257 rows × 10 columns</p>\n</div>"
     },
     "execution_count": 2313,
     "metadata": {},
     "output_type": "execute_result"
    }
   ],
   "source": [
    "data"
   ],
   "metadata": {
    "collapsed": false,
    "ExecuteTime": {
     "end_time": "2024-03-20T19:38:23.077459Z",
     "start_time": "2024-03-20T19:38:23.067603Z"
    }
   },
   "id": "b23251bfa6446912",
   "execution_count": 2313
  },
  {
   "cell_type": "code",
   "outputs": [
    {
     "data": {
      "text/plain": "UP      684\nDOWN    573\nName: change_direction, dtype: int64"
     },
     "execution_count": 2314,
     "metadata": {},
     "output_type": "execute_result"
    }
   ],
   "source": [
    "data['change_direction'].value_counts()"
   ],
   "metadata": {
    "collapsed": false,
    "ExecuteTime": {
     "end_time": "2024-03-20T19:38:23.083338Z",
     "start_time": "2024-03-20T19:38:23.078760Z"
    }
   },
   "id": "d6c966ef0ad14e73",
   "execution_count": 2314
  },
  {
   "cell_type": "code",
   "outputs": [],
   "source": [
    "#capitalize the first letter of each column\n",
    "data.columns = data.columns.str.capitalize()"
   ],
   "metadata": {
    "collapsed": false,
    "ExecuteTime": {
     "end_time": "2024-03-20T19:38:23.090344Z",
     "start_time": "2024-03-20T19:38:23.084848Z"
    }
   },
   "id": "c9d4cb166d7cf718",
   "execution_count": 2315
  },
  {
   "cell_type": "markdown",
   "source": [
    "## Machine Learning Model"
   ],
   "metadata": {
    "collapsed": false
   },
   "id": "3fb3e9a1fe97e035"
  },
  {
   "cell_type": "code",
   "outputs": [],
   "source": [
    "y = data.Change_direction\n"
   ],
   "metadata": {
    "collapsed": false,
    "ExecuteTime": {
     "end_time": "2024-03-20T19:38:23.095622Z",
     "start_time": "2024-03-20T19:38:23.091589Z"
    }
   },
   "id": "fa7d10d6303ab358",
   "execution_count": 2316
  },
  {
   "cell_type": "code",
   "outputs": [],
   "source": [
    "#make uppercase just the first letter of each column\n",
    "x.columns = x.columns.str.capitalize()"
   ],
   "metadata": {
    "collapsed": false,
    "ExecuteTime": {
     "end_time": "2024-03-20T19:38:23.099722Z",
     "start_time": "2024-03-20T19:38:23.097227Z"
    }
   },
   "id": "b61dc9b223a628f4",
   "execution_count": 2317
  },
  {
   "cell_type": "code",
   "outputs": [],
   "source": [
    "#split the data\n",
    "x_train, x_test, y_train, y_test = train_test_split(x, y, test_size=0.2, random_state=0)"
   ],
   "metadata": {
    "collapsed": false,
    "ExecuteTime": {
     "end_time": "2024-03-20T19:38:23.104586Z",
     "start_time": "2024-03-20T19:38:23.100488Z"
    }
   },
   "id": "b0d1e429ba2f9816",
   "execution_count": 2318
  },
  {
   "cell_type": "code",
   "outputs": [],
   "source": [
    "model = DecisionTreeClassifier()"
   ],
   "metadata": {
    "collapsed": false,
    "ExecuteTime": {
     "end_time": "2024-03-20T19:38:23.109670Z",
     "start_time": "2024-03-20T19:38:23.106210Z"
    }
   },
   "id": "292f55c5b196ba47",
   "execution_count": 2319
  },
  {
   "cell_type": "code",
   "outputs": [
    {
     "data": {
      "text/plain": "DecisionTreeClassifier()",
      "text/html": "<style>#sk-container-id-59 {color: black;background-color: white;}#sk-container-id-59 pre{padding: 0;}#sk-container-id-59 div.sk-toggleable {background-color: white;}#sk-container-id-59 label.sk-toggleable__label {cursor: pointer;display: block;width: 100%;margin-bottom: 0;padding: 0.3em;box-sizing: border-box;text-align: center;}#sk-container-id-59 label.sk-toggleable__label-arrow:before {content: \"▸\";float: left;margin-right: 0.25em;color: #696969;}#sk-container-id-59 label.sk-toggleable__label-arrow:hover:before {color: black;}#sk-container-id-59 div.sk-estimator:hover label.sk-toggleable__label-arrow:before {color: black;}#sk-container-id-59 div.sk-toggleable__content {max-height: 0;max-width: 0;overflow: hidden;text-align: left;background-color: #f0f8ff;}#sk-container-id-59 div.sk-toggleable__content pre {margin: 0.2em;color: black;border-radius: 0.25em;background-color: #f0f8ff;}#sk-container-id-59 input.sk-toggleable__control:checked~div.sk-toggleable__content {max-height: 200px;max-width: 100%;overflow: auto;}#sk-container-id-59 input.sk-toggleable__control:checked~label.sk-toggleable__label-arrow:before {content: \"▾\";}#sk-container-id-59 div.sk-estimator input.sk-toggleable__control:checked~label.sk-toggleable__label {background-color: #d4ebff;}#sk-container-id-59 div.sk-label input.sk-toggleable__control:checked~label.sk-toggleable__label {background-color: #d4ebff;}#sk-container-id-59 input.sk-hidden--visually {border: 0;clip: rect(1px 1px 1px 1px);clip: rect(1px, 1px, 1px, 1px);height: 1px;margin: -1px;overflow: hidden;padding: 0;position: absolute;width: 1px;}#sk-container-id-59 div.sk-estimator {font-family: monospace;background-color: #f0f8ff;border: 1px dotted black;border-radius: 0.25em;box-sizing: border-box;margin-bottom: 0.5em;}#sk-container-id-59 div.sk-estimator:hover {background-color: #d4ebff;}#sk-container-id-59 div.sk-parallel-item::after {content: \"\";width: 100%;border-bottom: 1px solid gray;flex-grow: 1;}#sk-container-id-59 div.sk-label:hover label.sk-toggleable__label {background-color: #d4ebff;}#sk-container-id-59 div.sk-serial::before {content: \"\";position: absolute;border-left: 1px solid gray;box-sizing: border-box;top: 0;bottom: 0;left: 50%;z-index: 0;}#sk-container-id-59 div.sk-serial {display: flex;flex-direction: column;align-items: center;background-color: white;padding-right: 0.2em;padding-left: 0.2em;position: relative;}#sk-container-id-59 div.sk-item {position: relative;z-index: 1;}#sk-container-id-59 div.sk-parallel {display: flex;align-items: stretch;justify-content: center;background-color: white;position: relative;}#sk-container-id-59 div.sk-item::before, #sk-container-id-59 div.sk-parallel-item::before {content: \"\";position: absolute;border-left: 1px solid gray;box-sizing: border-box;top: 0;bottom: 0;left: 50%;z-index: -1;}#sk-container-id-59 div.sk-parallel-item {display: flex;flex-direction: column;z-index: 1;position: relative;background-color: white;}#sk-container-id-59 div.sk-parallel-item:first-child::after {align-self: flex-end;width: 50%;}#sk-container-id-59 div.sk-parallel-item:last-child::after {align-self: flex-start;width: 50%;}#sk-container-id-59 div.sk-parallel-item:only-child::after {width: 0;}#sk-container-id-59 div.sk-dashed-wrapped {border: 1px dashed gray;margin: 0 0.4em 0.5em 0.4em;box-sizing: border-box;padding-bottom: 0.4em;background-color: white;}#sk-container-id-59 div.sk-label label {font-family: monospace;font-weight: bold;display: inline-block;line-height: 1.2em;}#sk-container-id-59 div.sk-label-container {text-align: center;}#sk-container-id-59 div.sk-container {/* jupyter's `normalize.less` sets `[hidden] { display: none; }` but bootstrap.min.css set `[hidden] { display: none !important; }` so we also need the `!important` here to be able to override the default hidden behavior on the sphinx rendered scikit-learn.org. See: https://github.com/scikit-learn/scikit-learn/issues/21755 */display: inline-block !important;position: relative;}#sk-container-id-59 div.sk-text-repr-fallback {display: none;}</style><div id=\"sk-container-id-59\" class=\"sk-top-container\"><div class=\"sk-text-repr-fallback\"><pre>DecisionTreeClassifier()</pre><b>In a Jupyter environment, please rerun this cell to show the HTML representation or trust the notebook. <br />On GitHub, the HTML representation is unable to render, please try loading this page with nbviewer.org.</b></div><div class=\"sk-container\" hidden><div class=\"sk-item\"><div class=\"sk-estimator sk-toggleable\"><input class=\"sk-toggleable__control sk-hidden--visually\" id=\"sk-estimator-id-59\" type=\"checkbox\" checked><label for=\"sk-estimator-id-59\" class=\"sk-toggleable__label sk-toggleable__label-arrow\">DecisionTreeClassifier</label><div class=\"sk-toggleable__content\"><pre>DecisionTreeClassifier()</pre></div></div></div></div></div>"
     },
     "execution_count": 2320,
     "metadata": {},
     "output_type": "execute_result"
    }
   ],
   "source": [
    "model.fit(X=x_train, y=y_train)"
   ],
   "metadata": {
    "collapsed": false,
    "ExecuteTime": {
     "end_time": "2024-03-20T19:38:23.121653Z",
     "start_time": "2024-03-20T19:38:23.111005Z"
    }
   },
   "id": "1d46371ce5c5c577",
   "execution_count": 2320
  },
  {
   "cell_type": "code",
   "outputs": [],
   "source": [
    "y_pred = model.predict(X=x_test) "
   ],
   "metadata": {
    "collapsed": false,
    "ExecuteTime": {
     "end_time": "2024-03-20T19:38:23.126733Z",
     "start_time": "2024-03-20T19:38:23.123263Z"
    }
   },
   "id": "e5ab6cb10799aad",
   "execution_count": 2321
  },
  {
   "cell_type": "code",
   "outputs": [
    {
     "name": "stdout",
     "output_type": "stream",
     "text": [
      "0.48412698412698413\n"
     ]
    }
   ],
   "source": [
    "accuracy = accuracy_score(y_test, y_pred)\n",
    "print(accuracy)"
   ],
   "metadata": {
    "collapsed": false,
    "ExecuteTime": {
     "end_time": "2024-03-20T19:38:23.131469Z",
     "start_time": "2024-03-20T19:38:23.127942Z"
    }
   },
   "id": "9bf6dba184b0b42a",
   "execution_count": 2322
  },
  {
   "cell_type": "code",
   "outputs": [
    {
     "ename": "NameError",
     "evalue": "name 'pd' is not defined",
     "output_type": "error",
     "traceback": [
      "\u001B[0;31m---------------------------------------------------------------------------\u001B[0m",
      "\u001B[0;31mNameError\u001B[0m                                 Traceback (most recent call last)",
      "Cell \u001B[0;32mIn[3], line 2\u001B[0m\n\u001B[1;32m      1\u001B[0m \u001B[38;5;66;03m#comparison data frame\u001B[39;00m\n\u001B[0;32m----> 2\u001B[0m comparison \u001B[38;5;241m=\u001B[39m \u001B[43mpd\u001B[49m\u001B[38;5;241m.\u001B[39mDataFrame({\u001B[38;5;124m'\u001B[39m\u001B[38;5;124mActual\u001B[39m\u001B[38;5;124m'\u001B[39m: y_test, \u001B[38;5;124m'\u001B[39m\u001B[38;5;124mPredicted\u001B[39m\u001B[38;5;124m'\u001B[39m: y_pred})\n\u001B[1;32m      3\u001B[0m comparison\n",
      "\u001B[0;31mNameError\u001B[0m: name 'pd' is not defined"
     ]
    }
   ],
   "source": [
    "#comparison data frame\n",
    "comparison = pd.DataFrame({'Actual': y_test, 'Predicted': y_pred})\n",
    "comparison"
   ],
   "metadata": {
    "collapsed": false,
    "ExecuteTime": {
     "end_time": "2024-03-22T20:01:00.317746Z",
     "start_time": "2024-03-22T20:01:00.297510Z"
    }
   },
   "id": "d2032cd0f9bfa3fa",
   "execution_count": 3
  },
  {
   "cell_type": "code",
   "outputs": [
    {
     "ename": "NameError",
     "evalue": "name 'comparison' is not defined",
     "output_type": "error",
     "traceback": [
      "\u001B[0;31m---------------------------------------------------------------------------\u001B[0m",
      "\u001B[0;31mNameError\u001B[0m                                 Traceback (most recent call last)",
      "Cell \u001B[0;32mIn[4], line 1\u001B[0m\n\u001B[0;32m----> 1\u001B[0m comp  \u001B[38;5;241m=\u001B[39m \u001B[43mcomparison\u001B[49m[\u001B[38;5;124m'\u001B[39m\u001B[38;5;124mActual\u001B[39m\u001B[38;5;124m'\u001B[39m] \u001B[38;5;241m==\u001B[39m comparison[\u001B[38;5;124m'\u001B[39m\u001B[38;5;124mPredicted\u001B[39m\u001B[38;5;124m'\u001B[39m]\n",
      "\u001B[0;31mNameError\u001B[0m: name 'comparison' is not defined"
     ]
    }
   ],
   "source": [
    "comp  = comparison['Actual'] == comparison['Predicted']"
   ],
   "metadata": {
    "collapsed": false,
    "ExecuteTime": {
     "end_time": "2024-03-22T20:01:01.576063Z",
     "start_time": "2024-03-22T20:01:01.531061Z"
    }
   },
   "id": "1e7ffb9465c6ec16",
   "execution_count": 4
  },
  {
   "cell_type": "code",
   "outputs": [
    {
     "data": {
      "text/plain": "122"
     },
     "execution_count": 2325,
     "metadata": {},
     "output_type": "execute_result"
    }
   ],
   "source": [
    "comp.sum()"
   ],
   "metadata": {
    "collapsed": false,
    "ExecuteTime": {
     "end_time": "2024-03-20T19:38:23.142323Z",
     "start_time": "2024-03-20T19:38:23.140149Z"
    }
   },
   "id": "845593e9431ad78e",
   "execution_count": 2325
  },
  {
   "cell_type": "code",
   "outputs": [
    {
     "data": {
      "text/plain": "252"
     },
     "execution_count": 2326,
     "metadata": {},
     "output_type": "execute_result"
    }
   ],
   "source": [
    "len(comp)"
   ],
   "metadata": {
    "collapsed": false,
    "ExecuteTime": {
     "end_time": "2024-03-20T19:38:23.145028Z",
     "start_time": "2024-03-20T19:38:23.142958Z"
    }
   },
   "id": "e9769c6c6813e167",
   "execution_count": 2326
  },
  {
   "cell_type": "code",
   "outputs": [
    {
     "data": {
      "text/plain": "0.48412698412698413"
     },
     "execution_count": 2327,
     "metadata": {},
     "output_type": "execute_result"
    }
   ],
   "source": [
    "comp.sum() / len(comp)"
   ],
   "metadata": {
    "collapsed": false,
    "ExecuteTime": {
     "end_time": "2024-03-20T19:38:23.152049Z",
     "start_time": "2024-03-20T19:38:23.149704Z"
    }
   },
   "id": "87381f966222d755",
   "execution_count": 2327
  },
  {
   "cell_type": "markdown",
   "source": [
    "## Backtesting"
   ],
   "metadata": {
    "collapsed": false
   },
   "id": "d03b2128f81d1272"
  },
  {
   "cell_type": "code",
   "outputs": [],
   "source": [
    "x_today = x.iloc[[-1], :]"
   ],
   "metadata": {
    "collapsed": false,
    "ExecuteTime": {
     "end_time": "2024-03-20T19:38:23.154516Z",
     "start_time": "2024-03-20T19:38:23.152717Z"
    }
   },
   "id": "ea4b4ad6e37ffff",
   "execution_count": 2328
  },
  {
   "cell_type": "code",
   "outputs": [
    {
     "data": {
      "text/plain": "              Open   High     Low   Close    Volume\ndate                                               \n2024-03-19  512.15  516.0  511.12  515.71  60755263",
      "text/html": "<div>\n<style scoped>\n    .dataframe tbody tr th:only-of-type {\n        vertical-align: middle;\n    }\n\n    .dataframe tbody tr th {\n        vertical-align: top;\n    }\n\n    .dataframe thead th {\n        text-align: right;\n    }\n</style>\n<table border=\"1\" class=\"dataframe\">\n  <thead>\n    <tr style=\"text-align: right;\">\n      <th></th>\n      <th>Open</th>\n      <th>High</th>\n      <th>Low</th>\n      <th>Close</th>\n      <th>Volume</th>\n    </tr>\n    <tr>\n      <th>date</th>\n      <th></th>\n      <th></th>\n      <th></th>\n      <th></th>\n      <th></th>\n    </tr>\n  </thead>\n  <tbody>\n    <tr>\n      <th>2024-03-19</th>\n      <td>512.15</td>\n      <td>516.0</td>\n      <td>511.12</td>\n      <td>515.71</td>\n      <td>60755263</td>\n    </tr>\n  </tbody>\n</table>\n</div>"
     },
     "execution_count": 2329,
     "metadata": {},
     "output_type": "execute_result"
    }
   ],
   "source": [
    "x_today"
   ],
   "metadata": {
    "collapsed": false,
    "ExecuteTime": {
     "end_time": "2024-03-20T19:38:23.158743Z",
     "start_time": "2024-03-20T19:38:23.155173Z"
    }
   },
   "id": "b1a1717edd6ecfd1",
   "execution_count": 2329
  },
  {
   "cell_type": "code",
   "outputs": [],
   "source": [
    "forecast = model.predict(x_today)[0]"
   ],
   "metadata": {
    "collapsed": false,
    "ExecuteTime": {
     "end_time": "2024-03-20T19:38:23.162706Z",
     "start_time": "2024-03-20T19:38:23.159395Z"
    }
   },
   "id": "3a2ddd9345ca9a3f",
   "execution_count": 2330
  },
  {
   "cell_type": "code",
   "outputs": [
    {
     "data": {
      "text/plain": "'UP'"
     },
     "execution_count": 2331,
     "metadata": {},
     "output_type": "execute_result"
    }
   ],
   "source": [
    "forecast"
   ],
   "metadata": {
    "collapsed": false,
    "ExecuteTime": {
     "end_time": "2024-03-20T19:38:23.165284Z",
     "start_time": "2024-03-20T19:38:23.163404Z"
    }
   },
   "id": "545fb0cf5c84c7e0",
   "execution_count": 2331
  },
  {
   "cell_type": "code",
   "outputs": [],
   "source": [
    "#create a trading strategy \n",
    "class Classification(Strategy):\n",
    "    def init(self):\n",
    "        self.model = model\n",
    "        self.already_bought = False\n",
    "\n",
    "    def next(self):\n",
    "        x_today = pd.DataFrame(x.iloc[[-1], :])\n",
    "        forecast = model.predict(x_today)[0]\n",
    "\n",
    "        if forecast == 'UP' and not self.already_bought:\n",
    "            self.buy()\n",
    "            self.already_bought = True\n",
    "        elif forecast == 'DOWN' and self.already_bought:\n",
    "            self.sell()\n",
    "            self.already_bought = False\n",
    "        else:\n",
    "            pass"
   ],
   "metadata": {
    "collapsed": false,
    "ExecuteTime": {
     "end_time": "2024-03-20T19:38:23.168170Z",
     "start_time": "2024-03-20T19:38:23.165896Z"
    }
   },
   "id": "15295280b8722938",
   "execution_count": 2332
  },
  {
   "cell_type": "code",
   "outputs": [],
   "source": [
    "bt = Backtest(data, Classification, cash=100000, commission=.002)"
   ],
   "metadata": {
    "collapsed": false,
    "ExecuteTime": {
     "end_time": "2024-03-20T19:38:23.171260Z",
     "start_time": "2024-03-20T19:38:23.168745Z"
    }
   },
   "id": "529786c24eaa95a1",
   "execution_count": 2333
  },
  {
   "cell_type": "code",
   "outputs": [
    {
     "data": {
      "text/plain": "Start                     2019-03-22 00:00:00\nEnd                       2024-03-19 00:00:00\nDuration                   1824 days 00:00:00\nExposure Time [%]                   99.840891\nEquity Final [$]                  181862.2971\nEquity Peak [$]                   183505.9471\nReturn [%]                          81.862297\nBuy & Hold Return [%]               84.676813\nReturn (Ann.) [%]                   12.738569\nVolatility (Ann.) [%]                23.92181\nSharpe Ratio                         0.532509\nSortino Ratio                        0.844266\nCalmar Ratio                         0.373666\nMax. Drawdown [%]                  -34.090826\nAvg. Drawdown [%]                   -1.928971\nMax. Drawdown Duration      746 days 00:00:00\nAvg. Drawdown Duration       21 days 00:00:00\n# Trades                                    1\nWin Rate [%]                            100.0\nBest Trade [%]                      81.902468\nWorst Trade [%]                     81.902468\nAvg. Trade [%]                      81.902468\nMax. Trade Duration        1820 days 00:00:00\nAvg. Trade Duration        1820 days 00:00:00\nProfit Factor                             NaN\nExpectancy [%]                      81.902468\nSQN                                       NaN\n_strategy                      Classification\n_equity_curve                             ...\n_trades                      Size  EntryBa...\ndtype: object"
     },
     "execution_count": 2334,
     "metadata": {},
     "output_type": "execute_result"
    }
   ],
   "source": [
    "bt.run()"
   ],
   "metadata": {
    "collapsed": false,
    "ExecuteTime": {
     "end_time": "2024-03-20T19:38:23.716600Z",
     "start_time": "2024-03-20T19:38:23.171877Z"
    }
   },
   "id": "ed362aa8400d9f77",
   "execution_count": 2334
  },
  {
   "cell_type": "code",
   "outputs": [],
   "source": [
    "class Classification(Strategy):\n",
    "    def init(self):\n",
    "        self.model = model\n",
    "        \n",
    "\n",
    "    def next(self):\n",
    "        x_today = pd.DataFrame(x.iloc[[-1], :])\n",
    "        forecast = model.predict(x_today)[0]\n",
    "\n",
    "        if forecast == 'UP':\n",
    "            self.buy()\n",
    "        elif forecast == 'DOWN':\n",
    "            self.sell()\n",
    "        else:\n",
    "            pass"
   ],
   "metadata": {
    "collapsed": false,
    "ExecuteTime": {
     "end_time": "2024-03-20T19:38:23.723197Z",
     "start_time": "2024-03-20T19:38:23.718755Z"
    }
   },
   "id": "ae2741087e740f4c",
   "execution_count": 2335
  },
  {
   "cell_type": "code",
   "outputs": [],
   "source": [
    "bt = Backtest(data, Classification, cash=10000, commission=.002)"
   ],
   "metadata": {
    "collapsed": false,
    "ExecuteTime": {
     "end_time": "2024-03-20T19:38:23.730538Z",
     "start_time": "2024-03-20T19:38:23.724279Z"
    }
   },
   "id": "9b1fdd9b2c4684a7",
   "execution_count": 2336
  },
  {
   "cell_type": "code",
   "outputs": [
    {
     "data": {
      "text/plain": "Start                     2019-03-22 00:00:00\nEnd                       2024-03-19 00:00:00\nDuration                   1824 days 00:00:00\nExposure Time [%]                   99.840891\nEquity Final [$]                   18159.6802\nEquity Peak [$]                    18232.9807\nReturn [%]                          81.596802\nBuy & Hold Return [%]               84.676813\nReturn (Ann.) [%]                   12.705554\nVolatility (Ann.) [%]               23.614756\nSharpe Ratio                         0.538035\nSortino Ratio                        0.852373\nCalmar Ratio                         0.377128\nMax. Drawdown [%]                  -33.690284\nAvg. Drawdown [%]                   -1.908786\nMax. Drawdown Duration      746 days 00:00:00\nAvg. Drawdown Duration       21 days 00:00:00\n# Trades                                    1\nWin Rate [%]                            100.0\nBest Trade [%]                      81.902468\nWorst Trade [%]                     81.902468\nAvg. Trade [%]                      81.902468\nMax. Trade Duration        1820 days 00:00:00\nAvg. Trade Duration        1820 days 00:00:00\nProfit Factor                             NaN\nExpectancy [%]                      81.902468\nSQN                                       NaN\n_strategy                      Classification\n_equity_curve                             ...\n_trades                      Size  EntryBa...\ndtype: object"
     },
     "execution_count": 2337,
     "metadata": {},
     "output_type": "execute_result"
    }
   ],
   "source": [
    "bt.run()"
   ],
   "metadata": {
    "collapsed": false,
    "ExecuteTime": {
     "end_time": "2024-03-20T19:38:24.526937Z",
     "start_time": "2024-03-20T19:38:23.731532Z"
    }
   },
   "id": "d9dd27498a5fe98c",
   "execution_count": 2337
  },
  {
   "cell_type": "code",
   "outputs": [],
   "source": [],
   "metadata": {
    "collapsed": false,
    "ExecuteTime": {
     "end_time": "2024-03-20T19:38:24.529645Z",
     "start_time": "2024-03-20T19:38:24.527896Z"
    }
   },
   "id": "bd81adf266065665",
   "execution_count": 2337
  },
  {
   "cell_type": "markdown",
   "source": [
    "# 20-period standard deviation - Strategy\n"
   ],
   "metadata": {
    "collapsed": false
   },
   "id": "c8fd8d2e196fb61b"
  },
  {
   "cell_type": "code",
   "outputs": [
    {
     "data": {
      "text/plain": "              Open    High     Low   Close     Volume     Sma50    Sma10  \\\ndate                                                                       \n2019-03-22  283.22  283.80  279.18  279.25  122659286  273.0680  281.200   \n2019-03-25  278.87  280.19  277.64  279.04   85575197  273.4712  281.260   \n2019-03-26  280.99  282.18  279.56  281.12   68125920  273.9140  281.423   \n2019-03-27  281.11  281.76  277.93  279.65   72224722  274.3590  281.254   \n2019-03-28  280.35  281.21  279.07  280.71   56238545  274.7662  281.209   \n...            ...     ...     ...     ...        ...       ...      ...   \n2024-03-13  517.11  517.29  514.49  515.97   55104088  493.3420  512.072   \n2024-03-14  516.97  517.13  511.82  514.95  110171820  494.1880  512.759   \n2024-03-15  510.21  511.70  508.12  509.83  107646297  495.0088  512.457   \n2024-03-18  514.00  515.48  512.44  512.86   88893331  495.9204  512.513   \n2024-03-19  512.15  516.00  511.12  515.71   60755263  496.8762  513.366   \n\n                  Rsi  Daily_return Change_direction  \ndate                                                  \n2019-03-22  64.766141     -0.075258             DOWN  \n2019-03-25  63.426746      0.739898               UP  \n2019-03-26  70.207388     -0.525657             DOWN  \n2019-03-27  61.285147      0.377614               UP  \n2019-03-28  64.862846      0.626593               UP  \n...               ...           ...              ...  \n2024-03-13  65.767035     -0.198077             DOWN  \n2024-03-14  63.224744     -1.004256             DOWN  \n2024-03-15  52.011240      0.590805               UP  \n2024-03-18  57.023313      0.552636               UP  \n2024-03-19  61.252714      0.897402               UP  \n\n[1257 rows x 10 columns]",
      "text/html": "<div>\n<style scoped>\n    .dataframe tbody tr th:only-of-type {\n        vertical-align: middle;\n    }\n\n    .dataframe tbody tr th {\n        vertical-align: top;\n    }\n\n    .dataframe thead th {\n        text-align: right;\n    }\n</style>\n<table border=\"1\" class=\"dataframe\">\n  <thead>\n    <tr style=\"text-align: right;\">\n      <th></th>\n      <th>Open</th>\n      <th>High</th>\n      <th>Low</th>\n      <th>Close</th>\n      <th>Volume</th>\n      <th>Sma50</th>\n      <th>Sma10</th>\n      <th>Rsi</th>\n      <th>Daily_return</th>\n      <th>Change_direction</th>\n    </tr>\n    <tr>\n      <th>date</th>\n      <th></th>\n      <th></th>\n      <th></th>\n      <th></th>\n      <th></th>\n      <th></th>\n      <th></th>\n      <th></th>\n      <th></th>\n      <th></th>\n    </tr>\n  </thead>\n  <tbody>\n    <tr>\n      <th>2019-03-22</th>\n      <td>283.22</td>\n      <td>283.80</td>\n      <td>279.18</td>\n      <td>279.25</td>\n      <td>122659286</td>\n      <td>273.0680</td>\n      <td>281.200</td>\n      <td>64.766141</td>\n      <td>-0.075258</td>\n      <td>DOWN</td>\n    </tr>\n    <tr>\n      <th>2019-03-25</th>\n      <td>278.87</td>\n      <td>280.19</td>\n      <td>277.64</td>\n      <td>279.04</td>\n      <td>85575197</td>\n      <td>273.4712</td>\n      <td>281.260</td>\n      <td>63.426746</td>\n      <td>0.739898</td>\n      <td>UP</td>\n    </tr>\n    <tr>\n      <th>2019-03-26</th>\n      <td>280.99</td>\n      <td>282.18</td>\n      <td>279.56</td>\n      <td>281.12</td>\n      <td>68125920</td>\n      <td>273.9140</td>\n      <td>281.423</td>\n      <td>70.207388</td>\n      <td>-0.525657</td>\n      <td>DOWN</td>\n    </tr>\n    <tr>\n      <th>2019-03-27</th>\n      <td>281.11</td>\n      <td>281.76</td>\n      <td>277.93</td>\n      <td>279.65</td>\n      <td>72224722</td>\n      <td>274.3590</td>\n      <td>281.254</td>\n      <td>61.285147</td>\n      <td>0.377614</td>\n      <td>UP</td>\n    </tr>\n    <tr>\n      <th>2019-03-28</th>\n      <td>280.35</td>\n      <td>281.21</td>\n      <td>279.07</td>\n      <td>280.71</td>\n      <td>56238545</td>\n      <td>274.7662</td>\n      <td>281.209</td>\n      <td>64.862846</td>\n      <td>0.626593</td>\n      <td>UP</td>\n    </tr>\n    <tr>\n      <th>...</th>\n      <td>...</td>\n      <td>...</td>\n      <td>...</td>\n      <td>...</td>\n      <td>...</td>\n      <td>...</td>\n      <td>...</td>\n      <td>...</td>\n      <td>...</td>\n      <td>...</td>\n    </tr>\n    <tr>\n      <th>2024-03-13</th>\n      <td>517.11</td>\n      <td>517.29</td>\n      <td>514.49</td>\n      <td>515.97</td>\n      <td>55104088</td>\n      <td>493.3420</td>\n      <td>512.072</td>\n      <td>65.767035</td>\n      <td>-0.198077</td>\n      <td>DOWN</td>\n    </tr>\n    <tr>\n      <th>2024-03-14</th>\n      <td>516.97</td>\n      <td>517.13</td>\n      <td>511.82</td>\n      <td>514.95</td>\n      <td>110171820</td>\n      <td>494.1880</td>\n      <td>512.759</td>\n      <td>63.224744</td>\n      <td>-1.004256</td>\n      <td>DOWN</td>\n    </tr>\n    <tr>\n      <th>2024-03-15</th>\n      <td>510.21</td>\n      <td>511.70</td>\n      <td>508.12</td>\n      <td>509.83</td>\n      <td>107646297</td>\n      <td>495.0088</td>\n      <td>512.457</td>\n      <td>52.011240</td>\n      <td>0.590805</td>\n      <td>UP</td>\n    </tr>\n    <tr>\n      <th>2024-03-18</th>\n      <td>514.00</td>\n      <td>515.48</td>\n      <td>512.44</td>\n      <td>512.86</td>\n      <td>88893331</td>\n      <td>495.9204</td>\n      <td>512.513</td>\n      <td>57.023313</td>\n      <td>0.552636</td>\n      <td>UP</td>\n    </tr>\n    <tr>\n      <th>2024-03-19</th>\n      <td>512.15</td>\n      <td>516.00</td>\n      <td>511.12</td>\n      <td>515.71</td>\n      <td>60755263</td>\n      <td>496.8762</td>\n      <td>513.366</td>\n      <td>61.252714</td>\n      <td>0.897402</td>\n      <td>UP</td>\n    </tr>\n  </tbody>\n</table>\n<p>1257 rows × 10 columns</p>\n</div>"
     },
     "execution_count": 2338,
     "metadata": {},
     "output_type": "execute_result"
    }
   ],
   "source": [
    "data"
   ],
   "metadata": {
    "collapsed": false,
    "ExecuteTime": {
     "end_time": "2024-03-20T19:38:24.539682Z",
     "start_time": "2024-03-20T19:38:24.530582Z"
    }
   },
   "id": "2b392ebdda61bb67",
   "execution_count": 2338
  },
  {
   "cell_type": "code",
   "outputs": [],
   "source": [],
   "metadata": {
    "collapsed": false,
    "ExecuteTime": {
     "end_time": "2024-03-20T19:38:24.543066Z",
     "start_time": "2024-03-20T19:38:24.541538Z"
    }
   },
   "id": "54f175d0091512ca",
   "execution_count": 2338
  }
 ],
 "metadata": {
  "kernelspec": {
   "display_name": "Python 3",
   "language": "python",
   "name": "python3"
  },
  "language_info": {
   "codemirror_mode": {
    "name": "ipython",
    "version": 2
   },
   "file_extension": ".py",
   "mimetype": "text/x-python",
   "name": "python",
   "nbconvert_exporter": "python",
   "pygments_lexer": "ipython2",
   "version": "2.7.6"
  }
 },
 "nbformat": 4,
 "nbformat_minor": 5
}
